{
 "cells": [
  {
   "cell_type": "code",
   "execution_count": null,
   "id": "ab22150a-f617-499b-961a-be06efff89d7",
   "metadata": {},
   "outputs": [],
   "source": [
    "import os\n",
    "import torch\n",
    "from glob import glob\n",
    "\n",
    "# === Einstellungen ===\n",
    "input_root = \"montage_datasets/combined/\"\n",
    "output_root_spectral = \"montage_datasets/spectral_only/\"\n",
    "output_root_temporal = \"montage_datasets/temporal_only/\"\n",
    "\n",
    "# Erstelle Zielverzeichnisse, wenn nicht vorhanden\n",
    "os.makedirs(output_root_spectral, exist_ok=True)\n",
    "os.makedirs(output_root_temporal, exist_ok=True)\n",
    "\n",
    "# Alle Konfigurations-Unterordner finden\n",
    "configs = [f for f in os.listdir(input_root) if os.path.isdir(os.path.join(input_root, f))]\n",
    "\n",
    "for config in configs:\n",
    "    input_dir = os.path.join(input_root, config)\n",
    "    output_dir_spec = os.path.join(output_root_spectral, config)\n",
    "    output_dir_temp = os.path.join(output_root_temporal, config)\n",
    "\n",
    "    os.makedirs(output_dir_spec, exist_ok=True)\n",
    "    os.makedirs(output_dir_temp, exist_ok=True)\n",
    "\n",
    "    pt_files = sorted(glob(os.path.join(input_dir, \"*.pt\")))\n",
    "\n",
    "    for file_path in pt_files:\n",
    "        try:\n",
    "            samples = torch.load(file_path)  # List of (channels x 15) matrices\n",
    "\n",
    "            spectral_list = []\n",
    "            temporal_list = []\n",
    "\n",
    "            for sample in samples:\n",
    "                feature_matrix = sample[0]  # (channels x 15)\n",
    "                if isinstance(feature_matrix, np.ndarray):\n",
    "                    feature_matrix = torch.tensor(feature_matrix, dtype=torch.float32)\n",
    "                spectral = torch.cat([feature_matrix[:, :10], feature_matrix[:, 13:14]], dim=1)\n",
    "                temporal = torch.cat([feature_matrix[:, 10:13], feature_matrix[:, 14:15]], dim=1)\n",
    "\n",
    "                spectral_list.append(spectral)\n",
    "                temporal_list.append(temporal)\n",
    "\n",
    "            base_name = os.path.basename(file_path)\n",
    "            torch.save(spectral_list, os.path.join(output_dir_spec, base_name))\n",
    "            torch.save(temporal_list, os.path.join(output_dir_temp, base_name))\n",
    "\n",
    "            print(f\"{base_name} in {config} erfolgreich aufgeteilt.\")\n",
    "\n",
    "        except Exception as e:\n",
    "            print(f\"Fehler bei {file_path}: {e}\")"
   ]
  },
  {
   "cell_type": "code",
   "execution_count": null,
   "id": "062a176e-9f5c-4300-9879-76859dbbcf0a",
   "metadata": {},
   "outputs": [],
   "source": []
  }
 ],
 "metadata": {
  "kernelspec": {
   "display_name": "Python (wki-sose25)",
   "language": "python",
   "name": "wki-sose25"
  },
  "language_info": {
   "codemirror_mode": {
    "name": "ipython",
    "version": 3
   },
   "file_extension": ".py",
   "mimetype": "text/x-python",
   "name": "python",
   "nbconvert_exporter": "python",
   "pygments_lexer": "ipython3",
   "version": "3.8.20"
  }
 },
 "nbformat": 4,
 "nbformat_minor": 5
}

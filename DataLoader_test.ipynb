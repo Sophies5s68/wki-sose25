{
 "cells": [
  {
   "cell_type": "code",
   "execution_count": 11,
   "id": "02b60d2c-df95-47c4-9a97-9400ff2e2a5b",
   "metadata": {},
   "outputs": [],
   "source": [
    "import csv\n",
    "import matplotlib.pyplot as plt\n",
    "import numpy as np\n",
    "import os\n",
    "from wettbewerb import load_references, get_3montages\n",
    "import mne\n",
    "from scipy import signal as sig\n",
    "import preprocess\n",
    "import importlib\n",
    "import features"
   ]
  },
  {
   "cell_type": "code",
   "execution_count": 2,
   "id": "58986a89-758f-4664-9d87-6cd454988532",
   "metadata": {},
   "outputs": [],
   "source": [
    "training_folder = \"../shared_data/training_mini\""
   ]
  },
  {
   "cell_type": "code",
   "execution_count": 3,
   "id": "33513c34-51f4-4cf7-bc41-382f76b0dbe9",
   "metadata": {},
   "outputs": [
    {
     "name": "stdout",
     "output_type": "stream",
     "text": [
      "100\t Dateien wurden geladen.\n"
     ]
    }
   ],
   "source": [
    "ids, channels, data, sampling_frequencies, reference_systems, eeg_labels = load_references(training_folder)"
   ]
  },
  {
   "cell_type": "code",
   "execution_count": null,
   "id": "e0628589-3a13-468b-8474-69a0c1185393",
   "metadata": {},
   "outputs": [],
   "source": []
  },
  {
   "cell_type": "code",
   "execution_count": 4,
   "id": "d3ebca70-f377-4a9f-8e98-365a0cc92d8b",
   "metadata": {},
   "outputs": [],
   "source": [
    "samples_dict = {}\n",
    "for label, id_, channel, datum, freq, ref in zip(eeg_labels, ids, channels, data, sampling_frequencies, reference_systems):  \n",
    "    entry = {\n",
    "        \"channel\": channel,\n",
    "        \"data\": datum,\n",
    "        \"sampling_frequency\": freq,\n",
    "        \"reference_system\": ref,\n",
    "        \"label\": label}\n",
    "    samples_dict[id_] = entry"
   ]
  },
  {
   "cell_type": "code",
   "execution_count": 5,
   "id": "8a77e244-6e74-46ce-adee-74e72232e4f3",
   "metadata": {},
   "outputs": [],
   "source": [
    "# Seperate into seizures and no seizures for feature test reasons \n",
    "with_seizure = []\n",
    "no_seizure = []\n",
    "\n",
    "for id_, entry in samples_dict.items():\n",
    "    label = entry[\"label\"]\n",
    "    if label[0] == 1:\n",
    "        with_seizure.append(id_)\n",
    "    else:\n",
    "        no_seizure.append(id_)"
   ]
  },
  {
   "cell_type": "code",
   "execution_count": 6,
   "id": "7a295508-71ec-4eba-bc04-e5f16a69e965",
   "metadata": {},
   "outputs": [],
   "source": [
    "def prefilter(data, fs, notch_freq = 60, Q = 30.0):\n",
    "    b, a = sig.iirnotch(notch_freq, Q, fs)\n",
    "    filtered_signal = sig.filtfilt(b,a,data, axis =1)\n",
    "    return filtered_signal"
   ]
  },
  {
   "cell_type": "code",
   "execution_count": 7,
   "id": "e6fa5faa-e888-49a0-ae88-a4285e0886c3",
   "metadata": {},
   "outputs": [
    {
     "name": "stdout",
     "output_type": "stream",
     "text": [
      "channel types\n",
      "['eeg', 'eeg', 'eeg', 'eeg', 'eeg', 'eeg', 'eeg', 'eeg', 'eeg', 'eeg', 'eeg', 'eeg', 'eeg', 'eeg', 'eeg', 'eeg', 'eeg', 'eeg', 'eeg']\n",
      "channel_names\n",
      "['Fp1', 'Fp2', 'F3', 'F4', 'C3', 'C4', 'P3', 'P4', 'O1', 'O2', 'F7', 'F8', 'T3', 'T4', 'T5', 'T6', 'Fz', 'Cz', 'Pz']\n",
      "signals\n",
      "(19, 75250)\n",
      "create info\n",
      "LE\n",
      "Creating RawArray with float64 data, n_channels=19, n_times=75250\n",
      "    Range : 0 ... 75249 =      0.000 ...   300.996 secs\n",
      "Ready.\n",
      "pyprep\n",
      "NOTE: pick_types() is a legacy function. New code should use inst.pick(...).\n",
      "Setting up high-pass filter at 1 Hz\n",
      "\n",
      "FIR filter parameters\n",
      "---------------------\n",
      "Designing a one-pass, zero-phase, non-causal highpass filter:\n",
      "- Windowed time-domain design (firwin) method\n",
      "- Hamming window with 0.0194 passband ripple and 53 dB stopband attenuation\n",
      "- Lower passband edge: 1.00\n",
      "- Lower transition bandwidth: 1.00 Hz (-6 dB cutoff frequency: 0.50 Hz)\n",
      "- Filter length: 825 samples (3.300 s)\n",
      "\n"
     ]
    },
    {
     "name": "stderr",
     "output_type": "stream",
     "text": [
      "[Parallel(n_jobs=1)]: Done  17 tasks      | elapsed:    0.0s\n"
     ]
    },
    {
     "name": "stdout",
     "output_type": "stream",
     "text": [
      "Executing RANSAC\n",
      "This may take a while, so be patient...\n"
     ]
    },
    {
     "name": "stderr",
     "output_type": "stream",
     "text": [
      "/home/jupyter-wki_team_3/.conda/envs/wki-sose25/lib/python3.8/site-packages/tqdm/auto.py:21: TqdmWarning: IProgress not found. Please update jupyter and ipywidgets. See https://ipywidgets.readthedocs.io/en/stable/user_install.html\n",
      "  from .autonotebook import tqdm as notebook_tqdm\n",
      "100%|██████████|  : 60/60 [00:01<00:00,   44.43it/s]"
     ]
    },
    {
     "name": "stdout",
     "output_type": "stream",
     "text": [
      "\n",
      "RANSAC done!\n",
      "Setting channel interpolation method to {'eeg': 'spline'}.\n"
     ]
    },
    {
     "name": "stderr",
     "output_type": "stream",
     "text": [
      "\n",
      "/home/jupyter-wki_team_3/wki-sose25/preprocess.py:40: RuntimeWarning: No bad channels to interpolate. Doing nothing...\n",
      "  bads_removed= raw_sig.copy().interpolate_bads()\n"
     ]
    },
    {
     "name": "stdout",
     "output_type": "stream",
     "text": [
      "rereference\n",
      "EEG channel type selected for re-referencing\n",
      "Applying average reference.\n",
      "Applying a custom ('EEG',) reference.\n",
      "notch\n",
      "Filtering raw data in 1 contiguous segment\n",
      "Setting up band-stop filter\n",
      "\n",
      "FIR filter parameters\n",
      "---------------------\n",
      "Designing a one-pass, zero-phase, non-causal bandstop filter:\n",
      "- Windowed time-domain design (firwin) method\n",
      "- Hamming window with 0.0194 passband ripple and 53 dB stopband attenuation\n",
      "- Lower transition bandwidth: 0.50 Hz\n",
      "- Upper transition bandwidth: 0.50 Hz\n",
      "- Filter length: 1651 samples (6.604 s)\n",
      "\n",
      "Filtering raw data in 1 contiguous segment\n",
      "Setting up band-pass filter from 1 - 1.2e+02 Hz\n",
      "\n",
      "FIR filter parameters\n",
      "---------------------\n",
      "Designing a one-pass, zero-phase, non-causal bandpass filter:\n",
      "- Windowed time-domain design (firwin) method\n",
      "- Hamming window with 0.0194 passband ripple and 53 dB stopband attenuation\n",
      "- Lower passband edge: 1.00\n",
      "- Lower transition bandwidth: 1.00 Hz (-6 dB cutoff frequency: 0.50 Hz)\n",
      "- Upper passband edge: 120.00 Hz\n",
      "- Upper transition bandwidth: 5.00 Hz (-6 dB cutoff frequency: 122.50 Hz)\n",
      "- Filter length: 825 samples (3.300 s)\n",
      "\n"
     ]
    },
    {
     "name": "stderr",
     "output_type": "stream",
     "text": [
      "[Parallel(n_jobs=1)]: Done  17 tasks      | elapsed:    0.0s\n",
      "[Parallel(n_jobs=1)]: Done  17 tasks      | elapsed:    0.0s\n"
     ]
    },
    {
     "data": {
      "text/plain": [
       "'\\nfor id_, entry in samples_dict.items():\\n    signals = entry[\"data\"]  # shape: (n_channels, n_samples)\\n    fs = entry[\"sampling_frequency\"]\\n    \\n    filtered_signals = prefilter(np.array(signals), fs, notch_freq = 60.0)\\n\\n    psds = []\\n    for signal in filtered_signals:\\n        freqs, psd = sig.welch(signal, fs)\\n        psds.append(psd)\\n    \\n    avg_psd = np.mean(psds, axis=0)\\n\\n    plt.figure(figsize=(8, 4))\\n    plt.semilogy(freqs, avg_psd)\\n    plt.title(f\"Avg PSD for ID: {id_} | Seizure: {entry[\\'label\\'][0] == 1} | Reference System: {entry[\\'reference_system\\']}\")\\n    plt.xlabel(\"Frequency (Hz)\")\\n    plt.ylabel(\"Power Spectral Density (V²/Hz)\")\\n    plt.grid(True)\\n    plt.tight_layout()\\n    plt.show()\\n'"
      ]
     },
     "execution_count": 7,
     "metadata": {},
     "output_type": "execute_result"
    }
   ],
   "source": [
    "importlib.reload(features)\n",
    "%matplotlib inline\n",
    "example_id = list(samples_dict.keys())[0]\n",
    "entry = samples_dict[example_id]\n",
    "signals = entry[\"data\"]  # shape: (n_channels, n_samples)\n",
    "fs = entry[\"sampling_frequency\"]\n",
    "ch = entry[\"channel\"] # list len n channels\n",
    "ref = entry[\"reference_system\"]\n",
    "\n",
    "preprocessed = preprocess.process_eeg(signals, fs, ch,ref)\n",
    "\n",
    "\n",
    "      \n",
    "'''\n",
    "for id_, entry in samples_dict.items():\n",
    "    signals = entry[\"data\"]  # shape: (n_channels, n_samples)\n",
    "    fs = entry[\"sampling_frequency\"]\n",
    "    \n",
    "    filtered_signals = prefilter(np.array(signals), fs, notch_freq = 60.0)\n",
    "\n",
    "    psds = []\n",
    "    for signal in filtered_signals:\n",
    "        freqs, psd = sig.welch(signal, fs)\n",
    "        psds.append(psd)\n",
    "    \n",
    "    avg_psd = np.mean(psds, axis=0)\n",
    "\n",
    "    plt.figure(figsize=(8, 4))\n",
    "    plt.semilogy(freqs, avg_psd)\n",
    "    plt.title(f\"Avg PSD for ID: {id_} | Seizure: {entry['label'][0] == 1} | Reference System: {entry['reference_system']}\")\n",
    "    plt.xlabel(\"Frequency (Hz)\")\n",
    "    plt.ylabel(\"Power Spectral Density (V²/Hz)\")\n",
    "    plt.grid(True)\n",
    "    plt.tight_layout()\n",
    "    plt.show()\n",
    "'''"
   ]
  },
  {
   "cell_type": "code",
   "execution_count": 9,
   "id": "9cd7c00e-8c3c-4ae9-8bd8-ca22e186c2fe",
   "metadata": {},
   "outputs": [
    {
     "name": "stdout",
     "output_type": "stream",
     "text": [
      "(19, 12)\n"
     ]
    }
   ],
   "source": [
    "importlib.reload(features)\n",
    "\n",
    "print(features.feature_extraction(preprocessed,fs).shape)\n"
   ]
  },
  {
   "cell_type": "code",
   "execution_count": null,
   "id": "6a21b92a-0fa9-4bd8-b14b-f6efffb41cbb",
   "metadata": {},
   "outputs": [],
   "source": []
  }
 ],
 "metadata": {
  "kernelspec": {
   "display_name": "Python [conda env:.conda-wki-sose25]",
   "language": "python",
   "name": "conda-env-.conda-wki-sose25-py"
  },
  "language_info": {
   "codemirror_mode": {
    "name": "ipython",
    "version": 3
   },
   "file_extension": ".py",
   "mimetype": "text/x-python",
   "name": "python",
   "nbconvert_exporter": "python",
   "pygments_lexer": "ipython3",
   "version": "3.8.20"
  }
 },
 "nbformat": 4,
 "nbformat_minor": 5
}

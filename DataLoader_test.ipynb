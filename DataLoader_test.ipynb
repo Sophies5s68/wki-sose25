{
 "cells": [
  {
   "cell_type": "code",
   "execution_count": 25,
   "id": "02b60d2c-df95-47c4-9a97-9400ff2e2a5b",
   "metadata": {},
   "outputs": [],
   "source": [
    "import csv\n",
    "import matplotlib.pyplot as plt\n",
    "import numpy as np\n",
    "import os\n",
    "from wettbewerb import load_references, get_3montages\n",
    "import mne\n",
    "from scipy import signal as sig\n",
    "import preprocess\n",
    "import importlib\n",
    "import features"
   ]
  },
  {
   "cell_type": "code",
   "execution_count": 26,
   "id": "58986a89-758f-4664-9d87-6cd454988532",
   "metadata": {},
   "outputs": [],
   "source": [
    "training_folder = \"../shared_data/training_mini\""
   ]
  },
  {
   "cell_type": "code",
   "execution_count": 27,
   "id": "33513c34-51f4-4cf7-bc41-382f76b0dbe9",
   "metadata": {},
   "outputs": [
    {
     "name": "stdout",
     "output_type": "stream",
     "text": [
      "10\t Dateien wurden geladen.\n"
     ]
    }
   ],
   "source": [
    "ids, channels, data, sampling_frequencies, reference_systems, eeg_labels = load_references(training_folder,90)"
   ]
  },
  {
   "cell_type": "code",
   "execution_count": null,
   "id": "e0628589-3a13-468b-8474-69a0c1185393",
   "metadata": {},
   "outputs": [],
   "source": []
  },
  {
   "cell_type": "code",
   "execution_count": 28,
   "id": "d3ebca70-f377-4a9f-8e98-365a0cc92d8b",
   "metadata": {},
   "outputs": [],
   "source": [
    "samples_dict = {}\n",
    "for label, id_, channel, datum, freq, ref in zip(eeg_labels, ids, channels, data, sampling_frequencies, reference_systems):  \n",
    "    entry = {\n",
    "        \"channel\": channel,\n",
    "        \"data\": datum,\n",
    "        \"sampling_frequency\": freq,\n",
    "        \"reference_system\": ref,\n",
    "        \"label\": label}\n",
    "    samples_dict[id_] = entry"
   ]
  },
  {
   "cell_type": "code",
   "execution_count": 29,
   "id": "8a77e244-6e74-46ce-adee-74e72232e4f3",
   "metadata": {},
   "outputs": [],
   "source": [
    "# Seperate into seizures and no seizures for feature test reasons \n",
    "with_seizure = []\n",
    "no_seizure = []\n",
    "\n",
    "for id_, entry in samples_dict.items():\n",
    "    label = entry[\"label\"]\n",
    "    if label[0] == 1:\n",
    "        with_seizure.append(id_)\n",
    "    else:\n",
    "        no_seizure.append(id_)"
   ]
  },
  {
   "cell_type": "code",
   "execution_count": 30,
   "id": "7a295508-71ec-4eba-bc04-e5f16a69e965",
   "metadata": {},
   "outputs": [],
   "source": [
    "def prefilter(data, fs, notch_freq = 60, Q = 30.0):\n",
    "    b, a = sig.iirnotch(notch_freq, Q, fs)\n",
    "    filtered_signal = sig.filtfilt(b,a,data, axis =1)\n",
    "    return filtered_signal"
   ]
  },
  {
   "cell_type": "code",
   "execution_count": 31,
   "id": "e6fa5faa-e888-49a0-ae88-a4285e0886c3",
   "metadata": {},
   "outputs": [
    {
     "ename": "TypeError",
     "evalue": "process_without_mne() missing 1 required positional argument: 'lowest_sampling'",
     "output_type": "error",
     "traceback": [
      "\u001b[0;31m---------------------------------------------------------------------------\u001b[0m",
      "\u001b[0;31mTypeError\u001b[0m                                 Traceback (most recent call last)",
      "Cell \u001b[0;32mIn[31], line 10\u001b[0m\n\u001b[1;32m      7\u001b[0m ch \u001b[38;5;241m=\u001b[39m entry[\u001b[38;5;124m\"\u001b[39m\u001b[38;5;124mchannel\u001b[39m\u001b[38;5;124m\"\u001b[39m] \u001b[38;5;66;03m# list len n channels\u001b[39;00m\n\u001b[1;32m      8\u001b[0m ref \u001b[38;5;241m=\u001b[39m entry[\u001b[38;5;124m\"\u001b[39m\u001b[38;5;124mreference_system\u001b[39m\u001b[38;5;124m\"\u001b[39m]\n\u001b[0;32m---> 10\u001b[0m preprocessed \u001b[38;5;241m=\u001b[39m \u001b[43mpreprocess\u001b[49m\u001b[38;5;241;43m.\u001b[39;49m\u001b[43mprocess_without_mne\u001b[49m\u001b[43m(\u001b[49m\u001b[43msignals\u001b[49m\u001b[43m,\u001b[49m\u001b[43m \u001b[49m\u001b[43mfs\u001b[49m\u001b[43m,\u001b[49m\u001b[43m \u001b[49m\u001b[43mch\u001b[49m\u001b[43m,\u001b[49m\u001b[43mref\u001b[49m\u001b[43m)\u001b[49m\n\u001b[1;32m     11\u001b[0m psds \u001b[38;5;241m=\u001b[39m []\n\u001b[1;32m     12\u001b[0m \u001b[38;5;28;01mfor\u001b[39;00m signal \u001b[38;5;129;01min\u001b[39;00m preprocessed:\n",
      "\u001b[0;31mTypeError\u001b[0m: process_without_mne() missing 1 required positional argument: 'lowest_sampling'"
     ]
    }
   ],
   "source": [
    "importlib.reload(preprocess)\n",
    "%matplotlib inline\n",
    "example_id = list(samples_dict.keys())[0]\n",
    "entry = samples_dict[example_id]\n",
    "signals = entry[\"data\"]  # shape: (n_channels, n_samples)\n",
    "fs = entry[\"sampling_frequency\"]\n",
    "ch = entry[\"channel\"] # list len n channels\n",
    "ref = entry[\"reference_system\"]\n",
    "preprocessed = preprocess.process_without_mne(signals, fs, ch,ref,lowest_sampling)\n",
    "psds = []\n",
    "for signal in preprocessed:\n",
    "    freqs, psd = sig.welch(signal, fs)\n",
    "    psds.append(psd)\n",
    "    \n",
    "avg_psd = np.mean(psds, axis=0)\n",
    "\n",
    "plt.figure(figsize=(8, 4))\n",
    "plt.semilogy(freqs, avg_psd)\n",
    "plt.title(f\"Avg PSD for ID: {id_} | Seizure: {entry['label'][0] == 1} | Reference System: {entry['reference_system']}\")\n",
    "plt.xlabel(\"Frequency (Hz)\")\n",
    "plt.ylabel(\"Power Spectral Density (V²/Hz)\")\n",
    "plt.grid(True)\n",
    "plt.tight_layout()\n",
    "plt.show()\n",
    "\n",
    "      \n",
    "'''\n",
    "for id_, entry in samples_dict.items():\n",
    "    signals = entry[\"data\"]  # shape: (n_channels, n_samples)\n",
    "    fs = entry[\"sampling_frequency\"]\n",
    "    \n",
    "    filtered_signals = prefilter(np.array(signals), fs, notch_freq = 60.0)\n",
    "\n",
    "    psds = []\n",
    "    for signal in filtered_signals:\n",
    "        freqs, psd = sig.welch(signal, fs)\n",
    "        psds.append(psd)\n",
    "    \n",
    "    avg_psd = np.mean(psds, axis=0)\n",
    "\n",
    "    plt.figure(figsize=(8, 4))\n",
    "    plt.semilogy(freqs, avg_psd)\n",
    "    plt.title(f\"Avg PSD for ID: {id_} | Seizure: {entry['label'][0] == 1} | Reference System: {entry['reference_system']}\")\n",
    "    plt.xlabel(\"Frequency (Hz)\")\n",
    "    plt.ylabel(\"Power Spectral Density (V²/Hz)\")\n",
    "    plt.grid(True)\n",
    "    plt.tight_layout()\n",
    "    plt.show()\n",
    "'''"
   ]
  },
  {
   "cell_type": "code",
   "execution_count": 9,
   "id": "9cd7c00e-8c3c-4ae9-8bd8-ca22e186c2fe",
   "metadata": {},
   "outputs": [
    {
     "name": "stdout",
     "output_type": "stream",
     "text": [
      "(19, 12)\n"
     ]
    }
   ],
   "source": [
    "importlib.reload(features)\n",
    "\n",
    "print(features.feature_extraction(preprocessed,fs).shape)\n"
   ]
  },
  {
   "cell_type": "code",
   "execution_count": null,
   "id": "6a21b92a-0fa9-4bd8-b14b-f6efffb41cbb",
   "metadata": {},
   "outputs": [],
   "source": []
  }
 ],
 "metadata": {
  "kernelspec": {
   "display_name": "Python [conda env:.conda-wki-sose25]",
   "language": "python",
   "name": "conda-env-.conda-wki-sose25-py"
  },
  "language_info": {
   "codemirror_mode": {
    "name": "ipython",
    "version": 3
   },
   "file_extension": ".py",
   "mimetype": "text/x-python",
   "name": "python",
   "nbconvert_exporter": "python",
   "pygments_lexer": "ipython3",
   "version": "3.8.20"
  }
 },
 "nbformat": 4,
 "nbformat_minor": 5
}

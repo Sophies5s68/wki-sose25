{
 "cells": [
  {
   "cell_type": "code",
   "execution_count": 15,
   "id": "02b60d2c-df95-47c4-9a97-9400ff2e2a5b",
   "metadata": {},
   "outputs": [],
   "source": [
    "'Notebook um sich die Daten genauer anzuschauen'\n",
    "import csv\n",
    "import matplotlib.pyplot as plt\n",
    "import numpy as np\n",
    "import os\n",
    "from wettbewerb import load_references, get_3montages\n",
    "import mne\n",
    "from scipy import signal as sig\n",
    "import preprocess\n",
    "import importlib\n",
    "import features"
   ]
  },
  {
   "cell_type": "code",
   "execution_count": 12,
   "id": "58986a89-758f-4664-9d87-6cd454988532",
   "metadata": {},
   "outputs": [],
   "source": [
    "train_folder = \"../shared_data/training_mini\""
   ]
  },
  {
   "cell_type": "code",
   "execution_count": 13,
   "id": "33513c34-51f4-4cf7-bc41-382f76b0dbe9",
   "metadata": {},
   "outputs": [
    {
     "name": "stdout",
     "output_type": "stream",
     "text": [
      "100\t Dateien wurden geladen.\n"
     ]
    }
   ],
   "source": [
    "ids, channels, data, sampling_frequencies, reference_systems, eeg_labels = load_references(train_folder)"
   ]
  },
  {
   "cell_type": "code",
   "execution_count": 14,
   "id": "13f13b6f-45f6-4dd5-b8ba-4a944b3a7d4c",
   "metadata": {},
   "outputs": [
    {
     "name": "stdout",
     "output_type": "stream",
     "text": [
      "Every sample has the same channels.\n",
      "['Fp1', 'Fp2', 'F3', 'F4', 'C3', 'C4', 'P3', 'P4', 'O1', 'O2', 'F7', 'F8', 'T3', 'T4', 'T5', 'T6', 'Fz', 'Cz', 'Pz']\n",
      "19\n"
     ]
    }
   ],
   "source": [
    "reference_channels = channels[0]  # Use the first sample as reference\n",
    "all_same = True  # Flag to track if all are the same\n",
    "\n",
    "for i, ch in enumerate(channels):\n",
    "    if ch != reference_channels:\n",
    "        all_same = False\n",
    "        print(f\"Sample ID {ids[i]} has different channels.\")\n",
    "        extra = set(ch) - set(reference_channels)\n",
    "        missing = set(reference_channels) - set(ch)\n",
    "        if extra:\n",
    "            print(f\"  Extra channels: {extra}\")\n",
    "        if missing:\n",
    "            print(f\"  Missing channels: {missing}\")\n",
    "\n",
    "if all_same:\n",
    "    print(\"Every sample has the same channels.\")\n",
    "    print(reference_channels)\n",
    "    print(len(reference_channels))"
   ]
  },
  {
   "cell_type": "code",
   "execution_count": null,
   "id": "e07bd596-5727-4665-b11e-b822c7bf1551",
   "metadata": {},
   "outputs": [],
   "source": []
  }
 ],
 "metadata": {
  "kernelspec": {
   "display_name": "Python (wki-sose25)",
   "language": "python",
   "name": "wki-sose25"
  },
  "language_info": {
   "codemirror_mode": {
    "name": "ipython",
    "version": 3
   },
   "file_extension": ".py",
   "mimetype": "text/x-python",
   "name": "python",
   "nbconvert_exporter": "python",
   "pygments_lexer": "ipython3",
   "version": "3.8.20"
  }
 },
 "nbformat": 4,
 "nbformat_minor": 5
}
